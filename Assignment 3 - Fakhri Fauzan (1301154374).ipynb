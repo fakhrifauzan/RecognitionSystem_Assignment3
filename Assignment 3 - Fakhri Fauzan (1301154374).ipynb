{
  "nbformat": 4,
  "nbformat_minor": 0,
  "metadata": {
    "colab": {
      "name": "Assignment 3 - Fakhri Fauzan (1301154374).ipynb",
      "version": "0.3.2",
      "provenance": [],
      "collapsed_sections": [
        "6iuTX-7ECXKj",
        "KhbcG7snCcfj",
        "8ri6KhDOKzXZ",
        "5mSzyY_-Mb89",
        "YRMOdmKMMeAu",
        "c70CPUZCMg-T"
      ],
      "include_colab_link": true
    },
    "kernelspec": {
      "display_name": "Python 3",
      "language": "python",
      "name": "python3"
    }
  },
  "cells": [
    {
      "cell_type": "markdown",
      "metadata": {
        "id": "view-in-github",
        "colab_type": "text"
      },
      "source": [
        "<a href=\"https://colab.research.google.com/github/fakhrifauzan/RecognitionSystem_Assignment3/blob/master/Assignment%203%20-%20Fakhri%20Fauzan%20(1301154374).ipynb\" target=\"_parent\"><img src=\"https://colab.research.google.com/assets/colab-badge.svg\" alt=\"Open In Colab\"/></a>"
      ]
    },
    {
      "metadata": {
        "id": "UseNvlV6HNK7",
        "colab_type": "text"
      },
      "cell_type": "markdown",
      "source": [
        "# Assignment 3 - Recognition System\n",
        "\n",
        "Fakhri Fauzan - 1301154374\n",
        "\n",
        "ICM - 39 - GAB"
      ]
    },
    {
      "metadata": {
        "id": "9kduUhQJHNK9",
        "colab_type": "text"
      },
      "cell_type": "markdown",
      "source": [
        "Example Code Official from Scikit-Images :\n",
        "1. [Local Binary Pattern](http://scikit-image.org/docs/dev/auto_examples/features_detection/plot_local_binary_pattern.html)\n",
        "2. [Histogram of Oriented Gradients](http://scikit-image.org/docs/dev/auto_examples/features_detection/plot_hog.html)"
      ]
    },
    {
      "metadata": {
        "id": "PUOWU3L1HNK9",
        "colab_type": "code",
        "colab": {}
      },
      "cell_type": "code",
      "source": [
        "%matplotlib inline"
      ],
      "execution_count": 0,
      "outputs": []
    },
    {
      "metadata": {
        "id": "PYLtWxGiHNLB",
        "colab_type": "code",
        "colab": {}
      },
      "cell_type": "code",
      "source": [
        "import matplotlib.pyplot as plt\n",
        "\n",
        "from skimage.feature import hog, local_binary_pattern\n",
        "from scipy.stats import itemfreq\n",
        "from sklearn.model_selection import train_test_split\n",
        "import cv2\n",
        "import numpy as np"
      ],
      "execution_count": 0,
      "outputs": []
    },
    {
      "metadata": {
        "id": "gW2fXKfU6AAV",
        "colab_type": "code",
        "outputId": "465df30b-32bc-49f9-97dd-cef2387054e9",
        "colab": {
          "base_uri": "https://localhost:8080/",
          "height": 54
        }
      },
      "cell_type": "code",
      "source": [
        "from google.colab import drive\n",
        "drive.mount('/content/gdrive')"
      ],
      "execution_count": 0,
      "outputs": [
        {
          "output_type": "stream",
          "text": [
            "Drive already mounted at /content/gdrive; to attempt to forcibly remount, call drive.mount(\"/content/gdrive\", force_remount=True).\n"
          ],
          "name": "stdout"
        }
      ]
    },
    {
      "metadata": {
        "id": "7wZLrQPi6m0X",
        "colab_type": "code",
        "outputId": "0ac42c80-5809-466e-9b5f-f5eb620647e6",
        "colab": {
          "base_uri": "https://localhost:8080/",
          "height": 50
        }
      },
      "cell_type": "code",
      "source": [
        "!unzip 'gdrive/My Drive/_TELKOM UNIVERSITY_/_SEMESTER 7/SISREK/fruit.zip'"
      ],
      "execution_count": 0,
      "outputs": [
        {
          "output_type": "stream",
          "text": [
            "Archive:  gdrive/My Drive/_TELKOM UNIVERSITY_/_SEMESTER 7/SISREK/fruit.zip\n",
            "replace rgb/apple_1/apple_1_1_100_crop.png? [y]es, [n]o, [A]ll, [N]one, [r]ename: N\n"
          ],
          "name": "stdout"
        }
      ]
    },
    {
      "metadata": {
        "id": "zWWChWEpHNLF",
        "colab_type": "text"
      },
      "cell_type": "markdown",
      "source": [
        "## Dataset"
      ]
    },
    {
      "metadata": {
        "id": "N9cLVHYPlKIr",
        "colab_type": "code",
        "colab": {}
      },
      "cell_type": "code",
      "source": [
        "# settings for LBP\n",
        "radius = 7\n",
        "n_points = 8 * radius\n",
        "eps=1e-7\n",
        "\n",
        "def load_data(a, b, c, d, fruit_name, img_fruit, img_fruit_gray, x_fruit, x_fruit_lbp, y_fruit):\n",
        "  for i in range(1,a):\n",
        "    # Read Image\n",
        "    img_fruit = cv2.imread('rgb/'+ str(fruit_name) +'_'+ str(d) +'/'+ str(fruit_name) +'_'+ str(d) +'_1_'+ str(i) +'_crop.png')\n",
        "    \n",
        "    # Convert to Grayscale\n",
        "    img_fruit = cv2.resize(img_fruit,(80,80))\n",
        "    img_fruit_rgb = cv2.cvtColor(img_fruit, cv2.COLOR_BGR2RGB)\n",
        "    img_fruit_gray = cv2.cvtColor(img_fruit_rgb, cv2.COLOR_RGB2GRAY)\n",
        "    \n",
        "    # Calc Histogram Of Gradient\n",
        "    value, hog_image = hog(img_fruit_gray, orientations=8, pixels_per_cell=(16, 16), cells_per_block=(1, 1), visualise=True)\n",
        "    \n",
        "    # Calc Local Binary Pattern\n",
        "    lbp = local_binary_pattern(img_fruit_gray, n_points, radius, method='default')\n",
        "    \n",
        "    # To calculate a normalized histogram \n",
        "    (hist, _) = np.histogram(lbp.flatten(),\tbins=np.arange(0, n_points+3), range=(0, n_points+2))\n",
        "    \n",
        "\t\t# normalize the histogram\n",
        "    hist = hist.astype(\"float\")\n",
        "    hist /= (hist.sum() + eps)\n",
        "    \n",
        "    x_fruit.append(value)\n",
        "    x_fruit_lbp.append(hist)\n",
        "    y_fruit.append(str(fruit_name))\n",
        "\n",
        "  for i in range(1,b):\n",
        "    # Read Image\n",
        "    img_fruit = cv2.imread('rgb/'+ str(fruit_name) +'_'+ str(d) +'/'+ str(fruit_name) +'_'+ str(d) +'_2_'+ str(i) +'_crop.png')\n",
        "    \n",
        "    # Convert to Grayscale\n",
        "    img_fruit = cv2.resize(img_fruit,(80,80))\n",
        "    img_fruit_rgb = cv2.cvtColor(img_fruit, cv2.COLOR_BGR2RGB)\n",
        "    img_fruit_gray = cv2.cvtColor(img_fruit_rgb, cv2.COLOR_RGB2GRAY)\n",
        "    \n",
        "    # Calc Histogram Of Gradient\n",
        "    value, hog_image = hog(img_fruit_gray, orientations=8, pixels_per_cell=(16, 16), cells_per_block=(1, 1), visualise=True)\n",
        "    \n",
        "    # Calc Local Binary Pattern\n",
        "    lbp = local_binary_pattern(img_fruit_gray, n_points, radius, method='default')\n",
        "    \n",
        "    \n",
        "    # To calculate a normalized histogram \n",
        "    (hist, _) = np.histogram(lbp.flatten(),\tbins=np.arange(0, n_points+3), range=(0, n_points+2))\n",
        "    \n",
        "\t\t# normalize the histogram\n",
        "    hist = hist.astype(\"float\")\n",
        "    hist /= (hist.sum() + eps)\n",
        "    \n",
        "    x_fruit.append(value)\n",
        "    x_fruit_lbp.append(hist)\n",
        "    y_fruit.append(str(fruit_name))\n",
        "\n",
        "  for i in range(1,c):\n",
        "    # Read Image\n",
        "    img_fruit = cv2.imread('rgb/'+ str(fruit_name) +'_'+ str(d) +'/'+ str(fruit_name) +'_'+ str(d) +'_4_'+ str(i) +'_crop.png')\n",
        "    \n",
        "    # Convert to Grayscale\n",
        "    img_fruit = cv2.resize(img_fruit,(80,80))\n",
        "    img_fruit_rgb = cv2.cvtColor(img_fruit, cv2.COLOR_BGR2RGB)\n",
        "    img_fruit_gray = cv2.cvtColor(img_fruit_rgb, cv2.COLOR_RGB2GRAY)\n",
        "    \n",
        "    # Calc Histogram Of Gradient\n",
        "    value, hog_image = hog(img_fruit_gray, orientations=8, pixels_per_cell=(16, 16), cells_per_block=(1, 1), visualise=True)\n",
        "    \n",
        "    # Calc Local Binary Pattern\n",
        "    lbp = local_binary_pattern(img_fruit_gray, n_points, radius, method='default')\n",
        "    \n",
        "    # To calculate a normalized histogram \n",
        "    (hist, _) = np.histogram(lbp.flatten(),\tbins=np.arange(0, n_points+3), range=(0, n_points+2))\n",
        "    \n",
        "\t\t# normalize the histogram\n",
        "    hist = hist.astype(\"float\")\n",
        "    hist /= (hist.sum() + eps)\n",
        "    \n",
        "    x_fruit.append(value)\n",
        "    x_fruit_lbp.append(hist)\n",
        "    y_fruit.append(str(fruit_name))\n",
        "    \n",
        "  print(\"Berhasil Load Data \" + fruit_name + \"_\" + str(d))"
      ],
      "execution_count": 0,
      "outputs": []
    },
    {
      "metadata": {
        "id": "wO2l6t5WHGhH",
        "colab_type": "code",
        "outputId": "39b18afe-e398-48ce-ad6a-dea9d6413943",
        "colab": {
          "base_uri": "https://localhost:8080/",
          "height": 201
        }
      },
      "cell_type": "code",
      "source": [
        "import matplotlib.pyplot as plt\n",
        "\n",
        "print('Example of Dataset')\n",
        "fig = plt.figure()\n",
        "ax1 = fig.add_subplot(4,4,1)\n",
        "ax1.set_title('Apple')\n",
        "ax1.set_axis_off()\n",
        "img_old = cv2.imread('rgb/apple_3/apple_3_1_100_crop.png')\n",
        "img = cv2.cvtColor(img_old, cv2.COLOR_BGR2RGB)\n",
        "ax1.imshow(img)\n",
        "\n",
        "ax2 = fig.add_subplot(4,4,2)\n",
        "ax2.set_title('Banana')\n",
        "ax2.set_axis_off()\n",
        "img_old = cv2.imread('rgb/banana_3/banana_3_1_100_crop.png')\n",
        "img = cv2.cvtColor(img_old, cv2.COLOR_BGR2RGB)\n",
        "ax2.imshow(img)\n",
        "\n",
        "ax3 = fig.add_subplot(4,4,3)\n",
        "ax3.set_title('Lemon')\n",
        "ax3.set_axis_off()\n",
        "img_old = cv2.imread('rgb/lemon_3/lemon_3_1_100_crop.png')\n",
        "img = cv2.cvtColor(img_old, cv2.COLOR_BGR2RGB)\n",
        "ax3.imshow(img)\n",
        "\n",
        "ax4 = fig.add_subplot(4,4,4)\n",
        "ax4.set_title('Lime')\n",
        "ax4.set_axis_off()\n",
        "img_old = cv2.imread('rgb/lime_3/lime_3_1_100_crop.png')\n",
        "img = cv2.cvtColor(img_old, cv2.COLOR_BGR2RGB)\n",
        "ax4.imshow(img)\n",
        "\n",
        "ax5 = fig.add_subplot(4,4,5)\n",
        "ax5.set_title('Orange')\n",
        "ax5.set_axis_off()\n",
        "img_old = cv2.imread('rgb/orange_3/orange_3_1_100_crop.png')\n",
        "img = cv2.cvtColor(img_old, cv2.COLOR_BGR2RGB)\n",
        "ax5.imshow(img)\n",
        "\n",
        "ax6 = fig.add_subplot(4,4,6)\n",
        "ax6.set_title('Pear')\n",
        "ax6.set_axis_off()\n",
        "img_old = cv2.imread('rgb/pear_3/pear_3_1_100_crop.png')\n",
        "img = cv2.cvtColor(img_old, cv2.COLOR_BGR2RGB)\n",
        "ax6.imshow(img)\n",
        "\n",
        "ax7 = fig.add_subplot(4,4,7)\n",
        "ax7.set_title('Peach')\n",
        "ax7.set_axis_off()\n",
        "img_old = cv2.imread('rgb/peach_3/peach_3_1_100_crop.png')\n",
        "img = cv2.cvtColor(img_old, cv2.COLOR_BGR2RGB)\n",
        "ax7.imshow(img)"
      ],
      "execution_count": 0,
      "outputs": [
        {
          "output_type": "stream",
          "text": [
            "Example of Dataset\n"
          ],
          "name": "stdout"
        },
        {
          "output_type": "execute_result",
          "data": {
            "text/plain": [
              "<matplotlib.image.AxesImage at 0x7f5ba0553eb8>"
            ]
          },
          "metadata": {
            "tags": []
          },
          "execution_count": 6
        },
        {
          "output_type": "display_data",
          "data": {
            "image/png": "[encoded data removed]",
            "text/plain": [
              "<matplotlib.figure.Figure at 0x7f5ba072f278>"
            ]
          },
          "metadata": {
            "tags": []
          }
        }
      ]
    },
    {
      "metadata": {
        "id": "6iuTX-7ECXKj",
        "colab_type": "text"
      },
      "cell_type": "markdown",
      "source": [
        "### Apple"
      ]
    },
    {
      "metadata": {
        "id": "Gb5TJRvXAugJ",
        "colab_type": "code",
        "colab": {}
      },
      "cell_type": "code",
      "source": [
        "# Initialize apple list\n",
        "x_apple, x_apple_lbp, y_apple = [], [], []"
      ],
      "execution_count": 0,
      "outputs": []
    },
    {
      "metadata": {
        "id": "cYh2UvRwlUma",
        "colab_type": "code",
        "outputId": "4662ab51-e92b-412d-8b56-6f5c28698759",
        "colab": {
          "base_uri": "https://localhost:8080/",
          "height": 154
        }
      },
      "cell_type": "code",
      "source": [
        "# Load Data Apple\n",
        "load_data(208, 200, 199, 1, 'apple', 'img_apple', 'img_apple_gray', x_apple, x_apple_lbp, y_apple)\n",
        "load_data(202, 214, 206, 2, 'apple', 'img_apple', 'img_apple_gray', x_apple, x_apple_lbp, y_apple)\n",
        "load_data(201, 208, 198, 3, 'apple', 'img_apple', 'img_apple_gray', x_apple, x_apple_lbp, y_apple)\n",
        "load_data(205, 224, 204, 4, 'apple', 'img_apple', 'img_apple_gray', x_apple, x_apple_lbp, y_apple)\n",
        "load_data(209, 199, 221, 5, 'apple', 'img_apple', 'img_apple_gray', x_apple, x_apple_lbp, y_apple)"
      ],
      "execution_count": 0,
      "outputs": [
        {
          "output_type": "stream",
          "text": [
            "/usr/local/lib/python3.6/dist-packages/skimage/feature/_hog.py:119: skimage_deprecation: Default value of `block_norm`==`L1` is deprecated and will be changed to `L2-Hys` in v0.15\n",
            "  'be changed to `L2-Hys` in v0.15', skimage_deprecation)\n"
          ],
          "name": "stderr"
        },
        {
          "output_type": "stream",
          "text": [
            "Berhasil Load Data apple_1\n",
            "Berhasil Load Data apple_2\n",
            "Berhasil Load Data apple_3\n",
            "Berhasil Load Data apple_4\n",
            "Berhasil Load Data apple_5\n"
          ],
          "name": "stdout"
        }
      ]
    },
    {
      "metadata": {
        "id": "g1G8c4glmDCR",
        "colab_type": "code",
        "colab": {}
      },
      "cell_type": "code",
      "source": [
        "#Convert list of array to list of list\n",
        "x_apple = [l.tolist() for l in x_apple]\n",
        "x_apple_lbp = [l.tolist() for l in x_apple_lbp]"
      ],
      "execution_count": 0,
      "outputs": []
    },
    {
      "metadata": {
        "id": "dzwTBfDlw-Jy",
        "colab_type": "code",
        "outputId": "d5dd0583-8771-4853-f640-ee483ffbedd5",
        "colab": {
          "base_uri": "https://localhost:8080/",
          "height": 54
        }
      },
      "cell_type": "code",
      "source": [
        "len(x_apple)"
      ],
      "execution_count": 0,
      "outputs": [
        {
          "output_type": "execute_result",
          "data": {
            "text/plain": [
              "3083"
            ]
          },
          "metadata": {
            "tags": []
          },
          "execution_count": 10
        }
      ]
    },
    {
      "metadata": {
        "id": "KhbcG7snCcfj",
        "colab_type": "text"
      },
      "cell_type": "markdown",
      "source": [
        "### Banana"
      ]
    },
    {
      "metadata": {
        "id": "-cUl3CnyHwT3",
        "colab_type": "code",
        "colab": {}
      },
      "cell_type": "code",
      "source": [
        "# Initialize banana list\n",
        "x_banana, x_banana_lbp, y_banana = [], [], []"
      ],
      "execution_count": 0,
      "outputs": []
    },
    {
      "metadata": {
        "id": "V7wCKLIVm31n",
        "colab_type": "code",
        "outputId": "8407f317-011f-481b-e3c4-655f78c00d85",
        "colab": {
          "base_uri": "https://localhost:8080/",
          "height": 138
        }
      },
      "cell_type": "code",
      "source": [
        "# Load Data Banana\n",
        "load_data(213, 245, 268, 1, 'banana', 'img_banana', 'img_banana_gray', x_banana, x_banana_lbp, y_banana)\n",
        "load_data(213, 237, 264, 2, 'banana', 'img_banana', 'img_banana_gray', x_banana, x_banana_lbp, y_banana)\n",
        "load_data(193, 251, 255, 3, 'banana', 'img_banana', 'img_banana_gray', x_banana, x_banana_lbp, y_banana)\n",
        "load_data(189, 248, 250, 4, 'banana', 'img_banana', 'img_banana_gray', x_banana, x_banana_lbp, y_banana)"
      ],
      "execution_count": 0,
      "outputs": [
        {
          "output_type": "stream",
          "text": [
            "/usr/local/lib/python3.6/dist-packages/skimage/feature/_hog.py:119: skimage_deprecation: Default value of `block_norm`==`L1` is deprecated and will be changed to `L2-Hys` in v0.15\n",
            "  'be changed to `L2-Hys` in v0.15', skimage_deprecation)\n"
          ],
          "name": "stderr"
        },
        {
          "output_type": "stream",
          "text": [
            "Berhasil Load Data banana_1\n",
            "Berhasil Load Data banana_2\n",
            "Berhasil Load Data banana_3\n",
            "Berhasil Load Data banana_4\n"
          ],
          "name": "stdout"
        }
      ]
    },
    {
      "metadata": {
        "id": "Lryob7YmnM6Z",
        "colab_type": "code",
        "colab": {}
      },
      "cell_type": "code",
      "source": [
        "#Convert list of array to list of list\n",
        "x_banana = [l.tolist() for l in x_banana]\n",
        "x_banana_lbp = [l.tolist() for l in x_banana_lbp]"
      ],
      "execution_count": 0,
      "outputs": []
    },
    {
      "metadata": {
        "id": "CnbZ1ijTxB4l",
        "colab_type": "code",
        "outputId": "e88530b8-363b-4814-de98-811b9ab83306",
        "colab": {
          "base_uri": "https://localhost:8080/",
          "height": 54
        }
      },
      "cell_type": "code",
      "source": [
        "len(x_banana)"
      ],
      "execution_count": 0,
      "outputs": [
        {
          "output_type": "execute_result",
          "data": {
            "text/plain": [
              "2814"
            ]
          },
          "metadata": {
            "tags": []
          },
          "execution_count": 14
        }
      ]
    },
    {
      "metadata": {
        "id": "8ri6KhDOKzXZ",
        "colab_type": "text"
      },
      "cell_type": "markdown",
      "source": [
        "### Lemon"
      ]
    },
    {
      "metadata": {
        "id": "R2pBQP0XK43C",
        "colab_type": "code",
        "colab": {}
      },
      "cell_type": "code",
      "source": [
        "# Initialize lemon list\n",
        "x_lemon, x_lemon_lbp, y_lemon = [], [], []"
      ],
      "execution_count": 0,
      "outputs": []
    },
    {
      "metadata": {
        "id": "Iw23ThGgm9XM",
        "colab_type": "code",
        "outputId": "a5c1b764-3960-40f0-c9c5-d104cff9b4da",
        "colab": {
          "base_uri": "https://localhost:8080/",
          "height": 171
        }
      },
      "cell_type": "code",
      "source": [
        "# Load Data Lemon\n",
        "load_data(199, 201, 193, 1, 'lemon', 'img_lemon', 'img_lemon_gray', x_lemon, x_lemon_lbp, y_lemon)\n",
        "load_data(227, 221, 218, 2, 'lemon', 'img_lemon', 'img_lemon_gray', x_lemon, x_lemon_lbp, y_lemon)\n",
        "load_data(201, 195, 218, 3, 'lemon', 'img_lemon', 'img_lemon_gray', x_lemon, x_lemon_lbp, y_lemon)\n",
        "load_data(186, 196, 220, 4, 'lemon', 'img_lemon', 'img_lemon_gray', x_lemon, x_lemon_lbp, y_lemon)\n",
        "load_data(231, 219, 204, 5, 'lemon', 'img_lemon', 'img_lemon_gray', x_lemon, x_lemon_lbp, y_lemon)\n",
        "load_data(205, 206, 207, 6, 'lemon', 'img_lemon', 'img_lemon_gray', x_lemon, x_lemon_lbp, y_lemon)"
      ],
      "execution_count": 0,
      "outputs": [
        {
          "output_type": "stream",
          "text": [
            "/usr/local/lib/python3.6/dist-packages/skimage/feature/_hog.py:119: skimage_deprecation: Default value of `block_norm`==`L1` is deprecated and will be changed to `L2-Hys` in v0.15\n",
            "  'be changed to `L2-Hys` in v0.15', skimage_deprecation)\n"
          ],
          "name": "stderr"
        },
        {
          "output_type": "stream",
          "text": [
            "Berhasil Load Data lemon_1\n",
            "Berhasil Load Data lemon_2\n",
            "Berhasil Load Data lemon_3\n",
            "Berhasil Load Data lemon_4\n",
            "Berhasil Load Data lemon_5\n",
            "Berhasil Load Data lemon_6\n"
          ],
          "name": "stdout"
        }
      ]
    },
    {
      "metadata": {
        "id": "YDiRxXTTnRlf",
        "colab_type": "code",
        "colab": {}
      },
      "cell_type": "code",
      "source": [
        "#Convert list of array to list of list\n",
        "x_lemon = [l.tolist() for l in x_lemon]\n",
        "x_lemon_lbp = [l.tolist() for l in x_lemon_lbp]"
      ],
      "execution_count": 0,
      "outputs": []
    },
    {
      "metadata": {
        "id": "dYXYBrxvxFMt",
        "colab_type": "code",
        "outputId": "0bcd3747-4887-465d-92be-660fe19fa89b",
        "colab": {
          "base_uri": "https://localhost:8080/",
          "height": 54
        }
      },
      "cell_type": "code",
      "source": [
        "len(x_lemon)"
      ],
      "execution_count": 0,
      "outputs": [
        {
          "output_type": "execute_result",
          "data": {
            "text/plain": [
              "3729"
            ]
          },
          "metadata": {
            "tags": []
          },
          "execution_count": 18
        }
      ]
    },
    {
      "metadata": {
        "id": "5mSzyY_-Mb89",
        "colab_type": "text"
      },
      "cell_type": "markdown",
      "source": [
        "### Lime"
      ]
    },
    {
      "metadata": {
        "id": "SpTa0ExYna4A",
        "colab_type": "code",
        "colab": {}
      },
      "cell_type": "code",
      "source": [
        "# Initialize lime list\n",
        "x_lime, x_lime_lbp, y_lime = [], [], []"
      ],
      "execution_count": 0,
      "outputs": []
    },
    {
      "metadata": {
        "id": "yRweqiCNnfag",
        "colab_type": "code",
        "outputId": "bed30b49-243d-4e71-f661-9fb6d20c01ef",
        "colab": {
          "base_uri": "https://localhost:8080/",
          "height": 138
        }
      },
      "cell_type": "code",
      "source": [
        "# Load Data Lime\n",
        "load_data(199, 228, 203, 1, 'lime', 'img_lime', 'img_lime_gray', x_lime, x_lime_lbp, y_lime)\n",
        "load_data(202, 208, 230, 2, 'lime', 'img_lime', 'img_lime_gray', x_lime, x_lime_lbp, y_lime)\n",
        "load_data(197, 205, 200, 3, 'lime', 'img_lime', 'img_lime_gray', x_lime, x_lime_lbp, y_lime)\n",
        "load_data(188, 254, 200, 4, 'lime', 'img_lime', 'img_lime_gray', x_lime, x_lime_lbp, y_lime)"
      ],
      "execution_count": 0,
      "outputs": [
        {
          "output_type": "stream",
          "text": [
            "/usr/local/lib/python3.6/dist-packages/skimage/feature/_hog.py:119: skimage_deprecation: Default value of `block_norm`==`L1` is deprecated and will be changed to `L2-Hys` in v0.15\n",
            "  'be changed to `L2-Hys` in v0.15', skimage_deprecation)\n"
          ],
          "name": "stderr"
        },
        {
          "output_type": "stream",
          "text": [
            "Berhasil Load Data lime_1\n",
            "Berhasil Load Data lime_2\n",
            "Berhasil Load Data lime_3\n",
            "Berhasil Load Data lime_4\n"
          ],
          "name": "stdout"
        }
      ]
    },
    {
      "metadata": {
        "id": "k6r3j_vLnyAC",
        "colab_type": "code",
        "colab": {}
      },
      "cell_type": "code",
      "source": [
        "#Convert list of array to list of list\n",
        "x_lime = [l.tolist() for l in x_lime]\n",
        "x_lime_lbp = [l.tolist() for l in x_lime_lbp]"
      ],
      "execution_count": 0,
      "outputs": []
    },
    {
      "metadata": {
        "id": "3yybx09CxJVZ",
        "colab_type": "code",
        "outputId": "a6722ac2-0d6d-4a51-f913-c5e6a7f79e99",
        "colab": {
          "base_uri": "https://localhost:8080/",
          "height": 54
        }
      },
      "cell_type": "code",
      "source": [
        "len(x_lime)"
      ],
      "execution_count": 0,
      "outputs": [
        {
          "output_type": "execute_result",
          "data": {
            "text/plain": [
              "2502"
            ]
          },
          "metadata": {
            "tags": []
          },
          "execution_count": 22
        }
      ]
    },
    {
      "metadata": {
        "id": "YRMOdmKMMeAu",
        "colab_type": "text"
      },
      "cell_type": "markdown",
      "source": [
        "### Orange"
      ]
    },
    {
      "metadata": {
        "id": "qGPK5OXbnwsh",
        "colab_type": "code",
        "colab": {}
      },
      "cell_type": "code",
      "source": [
        "# Initialize orange list\n",
        "x_orange, x_orange_lbp, y_orange = [], [], []"
      ],
      "execution_count": 0,
      "outputs": []
    },
    {
      "metadata": {
        "id": "aiPSoG5An7FI",
        "colab_type": "code",
        "outputId": "2a68bc33-fcf3-4b7c-f448-246ecb242393",
        "colab": {
          "base_uri": "https://localhost:8080/",
          "height": 138
        }
      },
      "cell_type": "code",
      "source": [
        "# Load Data Orange\n",
        "load_data(195, 262, 253, 1, 'orange', 'img_orange', 'img_orange_gray', x_orange, x_orange_lbp, y_orange)\n",
        "load_data(189, 264, 260, 2, 'orange', 'img_orange', 'img_orange_gray', x_orange, x_orange_lbp, y_orange)\n",
        "load_data(193, 247, 267, 3, 'orange', 'img_orange', 'img_orange_gray', x_orange, x_orange_lbp, y_orange)\n",
        "load_data(191, 254, 259, 4, 'orange', 'img_orange', 'img_orange_gray', x_orange, x_orange_lbp, y_orange)"
      ],
      "execution_count": 0,
      "outputs": [
        {
          "output_type": "stream",
          "text": [
            "/usr/local/lib/python3.6/dist-packages/skimage/feature/_hog.py:119: skimage_deprecation: Default value of `block_norm`==`L1` is deprecated and will be changed to `L2-Hys` in v0.15\n",
            "  'be changed to `L2-Hys` in v0.15', skimage_deprecation)\n"
          ],
          "name": "stderr"
        },
        {
          "output_type": "stream",
          "text": [
            "Berhasil Load Data orange_1\n",
            "Berhasil Load Data orange_2\n",
            "Berhasil Load Data orange_3\n",
            "Berhasil Load Data orange_4\n"
          ],
          "name": "stdout"
        }
      ]
    },
    {
      "metadata": {
        "id": "c5gHMtXzoNQ4",
        "colab_type": "code",
        "colab": {}
      },
      "cell_type": "code",
      "source": [
        "#Convert list of array to list of list\n",
        "x_orange = [l.tolist() for l in x_orange]\n",
        "x_orange_lbp = [l.tolist() for l in x_orange_lbp]"
      ],
      "execution_count": 0,
      "outputs": []
    },
    {
      "metadata": {
        "id": "qVoiT6OUxLk5",
        "colab_type": "code",
        "outputId": "ef7f3060-4f78-480c-c6dc-612dc7b709c8",
        "colab": {
          "base_uri": "https://localhost:8080/",
          "height": 34
        }
      },
      "cell_type": "code",
      "source": [
        "len(x_orange)"
      ],
      "execution_count": 0,
      "outputs": [
        {
          "output_type": "execute_result",
          "data": {
            "text/plain": [
              "2822"
            ]
          },
          "metadata": {
            "tags": []
          },
          "execution_count": 26
        }
      ]
    },
    {
      "metadata": {
        "id": "c70CPUZCMg-T",
        "colab_type": "text"
      },
      "cell_type": "markdown",
      "source": [
        "### Peach"
      ]
    },
    {
      "metadata": {
        "id": "hqTbhFrkoXzq",
        "colab_type": "code",
        "colab": {}
      },
      "cell_type": "code",
      "source": [
        "# Initialize peach list\n",
        "x_peach, x_peach_lbp, y_peach = [], [], []"
      ],
      "execution_count": 0,
      "outputs": []
    },
    {
      "metadata": {
        "id": "Dx0qU2dmod6O",
        "colab_type": "code",
        "outputId": "82aeebda-94ca-44bd-bbbd-28eaaf80f244",
        "colab": {
          "base_uri": "https://localhost:8080/",
          "height": 121
        }
      },
      "cell_type": "code",
      "source": [
        "# Load Data Peach\n",
        "load_data(193, 245, 236, 1, 'peach', 'img_peach', 'img_peach_gray', x_peach, x_peach_lbp, y_peach)\n",
        "load_data(194, 257, 253, 2, 'peach', 'img_peach', 'img_peach_gray', x_peach, x_peach_lbp, y_peach)\n",
        "load_data(194, 250, 257, 3, 'peach', 'img_peach', 'img_peach_gray', x_peach, x_peach_lbp, y_peach)"
      ],
      "execution_count": 0,
      "outputs": [
        {
          "output_type": "stream",
          "text": [
            "/usr/local/lib/python3.6/dist-packages/skimage/feature/_hog.py:119: skimage_deprecation: Default value of `block_norm`==`L1` is deprecated and will be changed to `L2-Hys` in v0.15\n",
            "  'be changed to `L2-Hys` in v0.15', skimage_deprecation)\n"
          ],
          "name": "stderr"
        },
        {
          "output_type": "stream",
          "text": [
            "Berhasil Load Data peach_1\n",
            "Berhasil Load Data peach_2\n",
            "Berhasil Load Data peach_3\n"
          ],
          "name": "stdout"
        }
      ]
    },
    {
      "metadata": {
        "id": "P_Tg0g-donb9",
        "colab_type": "code",
        "colab": {}
      },
      "cell_type": "code",
      "source": [
        "#Convert list of array to list of list\n",
        "x_peach = [l.tolist() for l in x_peach]\n",
        "x_peach_lbp = [l.tolist() for l in x_peach_lbp]"
      ],
      "execution_count": 0,
      "outputs": []
    },
    {
      "metadata": {
        "id": "kI8RjGICxNix",
        "colab_type": "code",
        "outputId": "ad573afc-2b78-4f05-817a-487fbb977f3a",
        "colab": {
          "base_uri": "https://localhost:8080/",
          "height": 34
        }
      },
      "cell_type": "code",
      "source": [
        "len(x_peach)"
      ],
      "execution_count": 0,
      "outputs": [
        {
          "output_type": "execute_result",
          "data": {
            "text/plain": [
              "2070"
            ]
          },
          "metadata": {
            "tags": []
          },
          "execution_count": 30
        }
      ]
    },
    {
      "metadata": {
        "id": "MYIbCyZ-MjZp",
        "colab_type": "text"
      },
      "cell_type": "markdown",
      "source": [
        "### Pear"
      ]
    },
    {
      "metadata": {
        "id": "k5wy2WgZoshn",
        "colab_type": "code",
        "colab": {}
      },
      "cell_type": "code",
      "source": [
        "# Initialize pear list\n",
        "x_pear, x_pear_lbp, y_pear = [], [], []"
      ],
      "execution_count": 0,
      "outputs": []
    },
    {
      "metadata": {
        "id": "7ddoGWWXozLf",
        "colab_type": "code",
        "outputId": "38d1a597-6204-490e-d860-87b67e08c9d4",
        "colab": {
          "base_uri": "https://localhost:8080/",
          "height": 171
        }
      },
      "cell_type": "code",
      "source": [
        "# Load Data Orange\n",
        "load_data(224, 220, 230, 1, 'pear', 'img_pear', 'img_pear_gray', x_pear, x_pear_lbp, y_pear)\n",
        "load_data(208, 231, 230, 2, 'pear', 'img_pear', 'img_pear_gray', x_pear, x_pear_lbp, y_pear)\n",
        "load_data(225, 230, 228, 3, 'pear', 'img_pear', 'img_pear_gray', x_pear, x_pear_lbp, y_pear)\n",
        "load_data(212, 224, 228, 4, 'pear', 'img_pear', 'img_pear_gray', x_pear, x_pear_lbp, y_pear)\n",
        "load_data(256, 245, 260, 7, 'pear', 'img_pear', 'img_pear_gray', x_pear, x_pear_lbp, y_pear)\n",
        "load_data(219, 248, 268, 8, 'pear', 'img_pear', 'img_pear_gray', x_pear, x_pear_lbp, y_pear)"
      ],
      "execution_count": 0,
      "outputs": [
        {
          "output_type": "stream",
          "text": [
            "/usr/local/lib/python3.6/dist-packages/skimage/feature/_hog.py:119: skimage_deprecation: Default value of `block_norm`==`L1` is deprecated and will be changed to `L2-Hys` in v0.15\n",
            "  'be changed to `L2-Hys` in v0.15', skimage_deprecation)\n"
          ],
          "name": "stderr"
        },
        {
          "output_type": "stream",
          "text": [
            "Berhasil Load Data pear_1\n",
            "Berhasil Load Data pear_2\n",
            "Berhasil Load Data pear_3\n",
            "Berhasil Load Data pear_4\n",
            "Berhasil Load Data pear_7\n",
            "Berhasil Load Data pear_8\n"
          ],
          "name": "stdout"
        }
      ]
    },
    {
      "metadata": {
        "id": "SyYR36XkpOfK",
        "colab_type": "code",
        "colab": {}
      },
      "cell_type": "code",
      "source": [
        "#Convert list of array to list of list\n",
        "x_pear = [l.tolist() for l in x_pear]\n",
        "x_pear_lbp = [l.tolist() for l in x_pear_lbp]"
      ],
      "execution_count": 0,
      "outputs": []
    },
    {
      "metadata": {
        "id": "J2pT3TxyxP0b",
        "colab_type": "code",
        "outputId": "2aaf6d36-8967-4783-9965-c9179513d4df",
        "colab": {
          "base_uri": "https://localhost:8080/",
          "height": 34
        }
      },
      "cell_type": "code",
      "source": [
        "len(x_pear)"
      ],
      "execution_count": 0,
      "outputs": [
        {
          "output_type": "execute_result",
          "data": {
            "text/plain": [
              "4168"
            ]
          },
          "metadata": {
            "tags": []
          },
          "execution_count": 34
        }
      ]
    },
    {
      "metadata": {
        "id": "667dhsC4MrnW",
        "colab_type": "text"
      },
      "cell_type": "markdown",
      "source": [
        "## Prepare for Classification"
      ]
    },
    {
      "metadata": {
        "id": "QctEurhcNBh4",
        "colab_type": "code",
        "colab": {}
      },
      "cell_type": "code",
      "source": [
        "import numpy as np\n",
        "\n",
        "# Concate all Train\n",
        "x_data_train = np.concatenate((x_apple, x_banana, x_lemon, x_lime, x_orange, x_peach, x_pear))\n",
        "x_data_lbp_train = np.concatenate((x_apple_lbp, x_banana_lbp, x_lemon_lbp, x_lime_lbp, x_orange_lbp, x_peach_lbp, x_pear_lbp))\n",
        "y_data_train = np.concatenate((y_apple, y_banana, y_lemon, y_lime, y_orange, y_peach, y_pear))"
      ],
      "execution_count": 0,
      "outputs": []
    },
    {
      "metadata": {
        "id": "rTW6uPi4M9UP",
        "colab_type": "code",
        "colab": {}
      },
      "cell_type": "code",
      "source": [
        "# Ubah label\n",
        "y_data_train[y_data_train == 'apple'] = 0\n",
        "y_data_train[y_data_train == 'banana'] = 1\n",
        "y_data_train[y_data_train == 'lemon'] = 2\n",
        "y_data_train[y_data_train == 'lime'] = 3\n",
        "y_data_train[y_data_train == 'orange'] = 4\n",
        "y_data_train[y_data_train == 'peach'] = 5\n",
        "y_data_train[y_data_train == 'pear'] = 6\n",
        "\n",
        "# Convert Tipe Data Array to int8\n",
        "y_data_train = y_data_train.astype(np.int8)"
      ],
      "execution_count": 0,
      "outputs": []
    },
    {
      "metadata": {
        "id": "frter75aNa1i",
        "colab_type": "code",
        "outputId": "56ef2db3-9419-43d0-adc6-79bdf4857835",
        "colab": {
          "base_uri": "https://localhost:8080/",
          "height": 67
        }
      },
      "cell_type": "code",
      "source": [
        "print(x_data_train.shape)\n",
        "print(x_data_lbp_train.shape)\n",
        "print(y_data_train)"
      ],
      "execution_count": 0,
      "outputs": [
        {
          "output_type": "stream",
          "text": [
            "(21188, 200)\n",
            "(21188, 58)\n",
            "[0 0 0 ... 6 6 6]\n"
          ],
          "name": "stdout"
        }
      ]
    },
    {
      "metadata": {
        "id": "8MdwvmvokVAI",
        "colab_type": "text"
      },
      "cell_type": "markdown",
      "source": [
        "## Classifier KNN"
      ]
    },
    {
      "metadata": {
        "id": "JayfMBI1lbvS",
        "colab_type": "code",
        "colab": {}
      },
      "cell_type": "code",
      "source": [
        "from sklearn.neighbors import KNeighborsClassifier\n",
        "from sklearn.metrics import accuracy_score"
      ],
      "execution_count": 0,
      "outputs": []
    },
    {
      "metadata": {
        "id": "LXSskBb7Rrw2",
        "colab_type": "code",
        "colab": {}
      },
      "cell_type": "code",
      "source": [
        "# Lakukan Split data training dan data testing utk masing masing fitur\n",
        "X_train, X_test, y_train, y_test = train_test_split(x_data_train, y_data_train, test_size=0.2, random_state=100)\n",
        "X_train_lbp, X_test_lbp, y_train_lbp, y_test_lbp = train_test_split(x_data_lbp_train, y_data_train, test_size=0.2, random_state=100)"
      ],
      "execution_count": 0,
      "outputs": []
    },
    {
      "metadata": {
        "id": "EvU3GtnN1qga",
        "colab_type": "text"
      },
      "cell_type": "markdown",
      "source": [
        "### HOG"
      ]
    },
    {
      "metadata": {
        "id": "Mab9klz3mbHM",
        "colab_type": "code",
        "colab": {}
      },
      "cell_type": "code",
      "source": [
        "knn_clf = KNeighborsClassifier(n_jobs=-1, weights='distance', n_neighbors=7)"
      ],
      "execution_count": 0,
      "outputs": []
    },
    {
      "metadata": {
        "id": "gYAkwK7b2C4U",
        "colab_type": "code",
        "outputId": "5365234f-9453-4a32-8ce6-55203c496b33",
        "colab": {
          "base_uri": "https://localhost:8080/",
          "height": 67
        }
      },
      "cell_type": "code",
      "source": [
        "knn_clf.fit(X_train, y_train)"
      ],
      "execution_count": 0,
      "outputs": [
        {
          "output_type": "execute_result",
          "data": {
            "text/plain": [
              "KNeighborsClassifier(algorithm='auto', leaf_size=30, metric='minkowski',\n",
              "           metric_params=None, n_jobs=-1, n_neighbors=7, p=2,\n",
              "           weights='distance')"
            ]
          },
          "metadata": {
            "tags": []
          },
          "execution_count": 41
        }
      ]
    },
    {
      "metadata": {
        "id": "kjpN_on_Mtax",
        "colab_type": "code",
        "outputId": "e7d89d66-b062-4776-b954-4b046e4dd43a",
        "colab": {
          "base_uri": "https://localhost:8080/",
          "height": 50
        }
      },
      "cell_type": "code",
      "source": [
        "print(X_train.shape)\n",
        "print(X_test.shape)"
      ],
      "execution_count": 0,
      "outputs": [
        {
          "output_type": "stream",
          "text": [
            "(16950, 200)\n",
            "(4238, 200)\n"
          ],
          "name": "stdout"
        }
      ]
    },
    {
      "metadata": {
        "id": "93RXCbmg2FCl",
        "colab_type": "code",
        "colab": {}
      },
      "cell_type": "code",
      "source": [
        "y_knn_pred = knn_clf.predict(X_test)"
      ],
      "execution_count": 0,
      "outputs": []
    },
    {
      "metadata": {
        "id": "s4eG_NxF2KIc",
        "colab_type": "code",
        "outputId": "3fb84e0e-f43f-452b-c200-72a1eebb0ce2",
        "colab": {
          "base_uri": "https://localhost:8080/",
          "height": 34
        }
      },
      "cell_type": "code",
      "source": [
        "print(accuracy_score(y_test, y_knn_pred)*100,'%')"
      ],
      "execution_count": 0,
      "outputs": [
        {
          "output_type": "stream",
          "text": [
            "99.97640396413404 %\n"
          ],
          "name": "stdout"
        }
      ]
    },
    {
      "metadata": {
        "id": "rfsYQ1lg2AAO",
        "colab_type": "text"
      },
      "cell_type": "markdown",
      "source": [
        "### LBP"
      ]
    },
    {
      "metadata": {
        "id": "_4kXj5N_0lho",
        "colab_type": "code",
        "colab": {}
      },
      "cell_type": "code",
      "source": [
        "knn_clf_lbp = KNeighborsClassifier(n_jobs=-1, weights='distance', n_neighbors=7)"
      ],
      "execution_count": 0,
      "outputs": []
    },
    {
      "metadata": {
        "id": "AAa3i1510nXP",
        "colab_type": "code",
        "outputId": "0f88ed6a-579c-4c65-d314-4c863fc0c2a6",
        "colab": {
          "base_uri": "https://localhost:8080/",
          "height": 67
        }
      },
      "cell_type": "code",
      "source": [
        "knn_clf_lbp.fit(X_train_lbp, y_train_lbp)"
      ],
      "execution_count": 0,
      "outputs": [
        {
          "output_type": "execute_result",
          "data": {
            "text/plain": [
              "KNeighborsClassifier(algorithm='auto', leaf_size=30, metric='minkowski',\n",
              "           metric_params=None, n_jobs=-1, n_neighbors=7, p=2,\n",
              "           weights='distance')"
            ]
          },
          "metadata": {
            "tags": []
          },
          "execution_count": 46
        }
      ]
    },
    {
      "metadata": {
        "id": "cAbouC3O3x8S",
        "colab_type": "code",
        "outputId": "b7d870e6-34d1-4546-fe25-b1dda45344a7",
        "colab": {
          "base_uri": "https://localhost:8080/",
          "height": 50
        }
      },
      "cell_type": "code",
      "source": [
        "print(X_train_lbp.shape)\n",
        "print(X_test_lbp.shape)"
      ],
      "execution_count": 0,
      "outputs": [
        {
          "output_type": "stream",
          "text": [
            "(16950, 58)\n",
            "(4238, 58)\n"
          ],
          "name": "stdout"
        }
      ]
    },
    {
      "metadata": {
        "id": "kmrI0CLV0sWL",
        "colab_type": "code",
        "colab": {}
      },
      "cell_type": "code",
      "source": [
        "y_knn_pred_lbp = knn_clf_lbp.predict(X_test_lbp)"
      ],
      "execution_count": 0,
      "outputs": []
    },
    {
      "metadata": {
        "id": "Xfq60xVPmYqZ",
        "colab_type": "code",
        "outputId": "ce2d9970-1f7d-4835-b554-d63b174e6e8e",
        "colab": {
          "base_uri": "https://localhost:8080/",
          "height": 34
        }
      },
      "cell_type": "code",
      "source": [
        "print(accuracy_score(y_test_lbp, y_knn_pred_lbp)*100,'%')"
      ],
      "execution_count": 0,
      "outputs": [
        {
          "output_type": "stream",
          "text": [
            "39.1694195375177 %\n"
          ],
          "name": "stdout"
        }
      ]
    }
  ]
}